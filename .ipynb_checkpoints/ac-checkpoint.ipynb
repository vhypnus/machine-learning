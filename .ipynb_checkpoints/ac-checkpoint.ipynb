{
 "cells": [
  {
   "cell_type": "markdown",
   "metadata": {},
   "source": [
    "## ac自动机\n",
    "全称Aho–Corasick\n",
    "\n",
    "**keynote**\n",
    "- trie树\n",
    "- 构建失败指针\n",
    "\n",
    "\n",
    "\n"
   ]
  },
  {
   "cell_type": "code",
   "execution_count": 3,
   "metadata": {},
   "outputs": [],
   "source": [
    "class Node(object):\n",
    "    def __init__(self, value='', finished = False):\n",
    "        self.children = {}\n",
    "        self.value = value\n",
    "        self.fail = None\n",
    "        self.key = ''\n",
    "        self.finished = finished\n",
    "        \n",
    "    def child(self,value):\n",
    "        '''get the child based on the value\n",
    "        '''\n",
    "        return self.children.get(value,None)\n",
    "    \n",
    "def build_trie(root, key_words):\n",
    "    def add_word(root, word):\n",
    "        for c in word:\n",
    "            child = root.child(c)\n",
    "            if not child:\n",
    "                child = Node(value=c)\n",
    "                root.children[c] = (child)\n",
    "            root = child\n",
    "        root.key = word\n",
    "        root.finished = True\n",
    "            \n",
    "    for word in key_words:\n",
    "        add_word(root,word)\n",
    "    return root"
   ]
  },
  {
   "cell_type": "code",
   "execution_count": 4,
   "metadata": {},
   "outputs": [],
   "source": [
    "from collections import deque\n",
    "\n",
    "def build_ac(root):\n",
    "    q = deque()\n",
    "    q.append(root)\n",
    "    while q:\n",
    "        node = q.popleft()\n",
    "        for value,child in node.children.items():\n",
    "            if node == root:\n",
    "                child.fail = root\n",
    "            else:\n",
    "                fail_node = node.fail\n",
    "                c = fail_node.child(value)\n",
    "                if c:\n",
    "                    child.fail = c\n",
    "                else:\n",
    "                    child.fail = root\n",
    "            q.append(child)\n",
    "    return root"
   ]
  },
  {
   "cell_type": "code",
   "execution_count": 5,
   "metadata": {},
   "outputs": [],
   "source": [
    "def search(s, root):\n",
    "    node = root\n",
    "    for i,c in enumerate(s):\n",
    "        while node and not node.child(c):\n",
    "            node = node.fail\n",
    "        if not node:\n",
    "            node = root\n",
    "            continue\n",
    "        node = node.child(c)\n",
    "        out = node\n",
    "        while out:\n",
    "            if out.finished:\n",
    "                print(i,out.key)\n",
    "            out = out.fail"
   ]
  },
  {
   "cell_type": "code",
   "execution_count": 6,
   "metadata": {},
   "outputs": [
    {
     "name": "stdout",
     "output_type": "stream",
     "text": [
      "0 a\n",
      "1 ab\n",
      "2 bc\n",
      "2 c\n",
      "3 c\n",
      "4 a\n",
      "5 ab\n"
     ]
    }
   ],
   "source": [
    "### test\n",
    "\n",
    "key_words = 'a,ab,bab,bc,bca,c,caa'.split(',')\n",
    "trie = Node()\n",
    "build_trie(trie,key_words)\n",
    "build_ac(trie)\n",
    "search(\"abccab\",trie)"
   ]
  },
  {
   "cell_type": "code",
   "execution_count": null,
   "metadata": {},
   "outputs": [],
   "source": []
  }
 ],
 "metadata": {
  "kernelspec": {
   "display_name": "Python 3",
   "language": "python",
   "name": "python3"
  },
  "language_info": {
   "codemirror_mode": {
    "name": "ipython",
    "version": 3
   },
   "file_extension": ".py",
   "mimetype": "text/x-python",
   "name": "python",
   "nbconvert_exporter": "python",
   "pygments_lexer": "ipython3",
   "version": "3.7.6"
  }
 },
 "nbformat": 4,
 "nbformat_minor": 4
}
